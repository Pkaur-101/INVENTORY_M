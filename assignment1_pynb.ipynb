{
  "nbformat": 4,
  "nbformat_minor": 0,
  "metadata": {
    "colab": {
      "provenance": [],
      "authorship_tag": "ABX9TyNhHxBzrSrhmR97hF5xl7l/",
      "include_colab_link": true
    },
    "kernelspec": {
      "name": "python3",
      "display_name": "Python 3"
    },
    "language_info": {
      "name": "python"
    }
  },
  "cells": [
    {
      "cell_type": "markdown",
      "metadata": {
        "id": "view-in-github",
        "colab_type": "text"
      },
      "source": [
        "<a href=\"https://colab.research.google.com/github/Pkaur-101/INVENTORY_M/blob/master/assignment1_pynb.ipynb\" target=\"_parent\"><img src=\"https://colab.research.google.com/assets/colab-badge.svg\" alt=\"Open In Colab\"/></a>"
      ]
    },
    {
      "cell_type": "code",
      "execution_count": 1,
      "metadata": {
        "colab": {
          "base_uri": "https://localhost:8080/"
        },
        "id": "wvAkK5dvAKu0",
        "outputId": "cdb44e6a-1833-4dcb-ce4b-701998a11b7c"
      },
      "outputs": [
        {
          "output_type": "stream",
          "name": "stdout",
          "text": [
            "[5 4 6 3 2 1]\n"
          ]
        }
      ],
      "source": [
        "import numpy as np\n",
        "arr=np.array([1,2,3,6,4,5])\n",
        "reversed_arr=arr[::-1]\n",
        "print(reversed_arr)"
      ]
    },
    {
      "cell_type": "code",
      "source": [
        "import numpy as np\n",
        "array1 = np.array([[1,2,3],[2,4,5],[1,2,3]])\n",
        "flattened_arr=array1.flatten()\n",
        "print(flattened_arr)"
      ],
      "metadata": {
        "colab": {
          "base_uri": "https://localhost:8080/"
        },
        "id": "4uFvo21zBwu2",
        "outputId": "877acedf-4c7d-4619-9b47-9c62b4d4262d"
      },
      "execution_count": 4,
      "outputs": [
        {
          "output_type": "stream",
          "name": "stdout",
          "text": [
            "[1 2 3 2 4 5 1 2 3]\n"
          ]
        }
      ]
    },
    {
      "cell_type": "code",
      "source": [
        "import numpy as np\n",
        "arr1=np.array([[1,2],[3,4]])\n",
        "arr2=np.array([[1,2],[3,4]])\n",
        "comparison=arr1==arr2\n",
        "equal_array=comparison.all()\n",
        "print(equal_array)\n"
      ],
      "metadata": {
        "colab": {
          "base_uri": "https://localhost:8080/"
        },
        "id": "_ji8PvxoIwpL",
        "outputId": "270c7575-d5a3-4472-fa08-7373781a6c44"
      },
      "execution_count": 5,
      "outputs": [
        {
          "output_type": "stream",
          "name": "stdout",
          "text": [
            "True\n"
          ]
        }
      ]
    },
    {
      "cell_type": "code",
      "source": [
        "import numpy as np\n",
        "x=np.array([1,2,3,4,5,1,2,1,1,1])\n",
        "print(\"original array\")\n",
        "print(x)\n",
        "print(\"Most frequent value in the array\")\n",
        "print(np.bincount(x).argmax())"
      ],
      "metadata": {
        "colab": {
          "base_uri": "https://localhost:8080/"
        },
        "id": "YstdRNGzJrsw",
        "outputId": "02b7d086-25da-411e-c4f1-a0f4c8a4595b"
      },
      "execution_count": 6,
      "outputs": [
        {
          "output_type": "stream",
          "name": "stdout",
          "text": [
            "original array\n",
            "[1 2 3 4 5 1 2 1 1 1]\n",
            "Most frequent value in the array\n",
            "1\n"
          ]
        }
      ]
    },
    {
      "cell_type": "code",
      "source": [
        "import numpy as np\n",
        "y=np.array([1,1,1,2,3,4,2,4,3,3])\n",
        "print(\"ORIGINAL ARRAY\")\n",
        "print(y)\n",
        "print(\"most frequent value in the array\")\n",
        "print(np.bincount(y).argmax())"
      ],
      "metadata": {
        "colab": {
          "base_uri": "https://localhost:8080/"
        },
        "id": "v1HKi_xDKMv9",
        "outputId": "85b2488a-3f44-49dd-d8c8-e1ebb53102f9"
      },
      "execution_count": 7,
      "outputs": [
        {
          "output_type": "stream",
          "name": "stdout",
          "text": [
            "ORIGINAL ARRAY\n",
            "[1 1 1 2 3 4 2 4 3 3]\n",
            "most frequent value in the array\n",
            "1\n"
          ]
        }
      ]
    },
    {
      "cell_type": "code",
      "source": [
        "import numpy as np\n",
        "import numpy as np\n",
        "gfg = np.matrix('[4, 1, 9; 12, 3, 1; 4, 5, 6]')\n",
        "total_sum = gfg.sum()\n",
        "row_sum = gfg.sum(axis=1)\n",
        "column_sum = gfg.sum(axis=0)\n",
        "print(\"Sum of all elements:\", total_sum)\n",
        "print(\"Sum of all elements row-wise:\", row_sum)\n",
        "print(\"Sum of all elements column-wise:\", column_sum)\n"
      ],
      "metadata": {
        "colab": {
          "base_uri": "https://localhost:8080/"
        },
        "id": "it9y4JcrLNl4",
        "outputId": "323d494b-d501-4b4f-c666-da6f4c544dd7"
      },
      "execution_count": 8,
      "outputs": [
        {
          "output_type": "stream",
          "name": "stdout",
          "text": [
            "Sum of all elements: 45\n",
            "Sum of all elements row-wise: [[14]\n",
            " [16]\n",
            " [15]]\n",
            "Sum of all elements column-wise: [[20  9 16]]\n"
          ]
        }
      ]
    },
    {
      "cell_type": "code",
      "source": [
        "import numpy as np\n",
        "n_array = np.array([[55, 25, 15], [30, 44, 2], [11, 45, 77]])\n",
        "sum_diagonal = np.trace(n_array)\n",
        "eigenvalues = np.linalg.eigvals(n_array)\n",
        "eigenvalues, eigenvectors = np.linalg.eig(n_array)\n",
        "inverse_matrix = np.linalg.inv(n_array)\n",
        "determinant = np.linalg.det(n_array)\n",
        "print(\"Sum of diagonal elements:\", sum_diagonal)\n",
        "print(\"Eigenvalues:\", eigenvalues)\n",
        "print(\"Eigenvectors:\\n\", eigenvectors)\n",
        "print(\"Inverse of matrix:\\n\", inverse_matrix)\n",
        "print(\"Determinant of matrix:\", determinant)\n"
      ],
      "metadata": {
        "colab": {
          "base_uri": "https://localhost:8080/"
        },
        "id": "GWs_DduBMToq",
        "outputId": "8d2144cd-838a-43f3-bd12-ed67621340d5"
      },
      "execution_count": 9,
      "outputs": [
        {
          "output_type": "stream",
          "name": "stdout",
          "text": [
            "Sum of diagonal elements: 176\n",
            "Eigenvalues: [98.16835147 28.097044   49.73460452]\n",
            "Eigenvectors:\n",
            " [[ 0.4574917   0.34637121 -0.15017693]\n",
            " [ 0.28447814 -0.72784061 -0.4852124 ]\n",
            " [ 0.84248058  0.59184038  0.8614034 ]]\n",
            "Inverse of matrix:\n",
            " [[ 0.02404141 -0.00911212 -0.00444671]\n",
            " [-0.01667882  0.02966905  0.0024785 ]\n",
            " [ 0.00631287 -0.01603732  0.01217379]]\n",
            "Determinant of matrix: 137180.0000000001\n"
          ]
        }
      ]
    },
    {
      "cell_type": "code",
      "source": [
        "import numpy as np\n",
        "p = np.array([[1, 2], [2, 3]])\n",
        "q = np.array([[4, 5], [6, 7]])\n",
        "product = np.dot(p, q)\n",
        "print(\"Product of matrices p and q:\\n\", product)\n",
        "p_flat = p.flatten()\n",
        "q_flat = q.flatten()\n",
        "covariance = np.cov(p_flat, q_flat)\n",
        "print(\"\\nCovariance of matrices p and q:\\n\", covariance)\n"
      ],
      "metadata": {
        "colab": {
          "base_uri": "https://localhost:8080/"
        },
        "id": "tq0RNJvVM9EP",
        "outputId": "c32b7f82-a865-400b-f50a-53fbbf2db0ca"
      },
      "execution_count": 13,
      "outputs": [
        {
          "output_type": "stream",
          "name": "stdout",
          "text": [
            "Product of matrices p and q:\n",
            " [[16 19]\n",
            " [26 31]]\n",
            "\n",
            "Covariance of matrices p and q:\n",
            " [[0.66666667 1.        ]\n",
            " [1.         1.66666667]]\n"
          ]
        }
      ]
    },
    {
      "cell_type": "code",
      "source": [
        "import numpy as np\n",
        "p=np.array([[1,2],[2,3],[4,5]])\n",
        "q=np.array([[4,5,1],[6,7,2]])\n",
        "product=np.dot(p,q)\n",
        "print(\"product of matrics p and q:\\n\",product)\n",
        "p_flat=p.flatten()\n",
        "q_flat=q.flatten()\n",
        "covariance = np.cov(p_flat,q_flat)\n",
        "print(covariance)"
      ],
      "metadata": {
        "colab": {
          "base_uri": "https://localhost:8080/"
        },
        "id": "J3VW6XhJPKn7",
        "outputId": "084a0ca3-c00d-4379-ae54-1362d1cfbc71"
      },
      "execution_count": 14,
      "outputs": [
        {
          "output_type": "stream",
          "name": "stdout",
          "text": [
            "product of matrics p and q:\n",
            " [[16 19  5]\n",
            " [26 31  8]\n",
            " [46 55 14]]\n",
            "[[2.16666667 0.23333333]\n",
            " [0.23333333 5.36666667]]\n"
          ]
        }
      ]
    },
    {
      "cell_type": "code",
      "source": [
        "import numpy as np\n",
        "from itertools import product\n",
        "x = np.array([[2, 3, 4], [3, 2, 9]])\n",
        "y = np.array([[1, 5, 0], [5, 10, 3]])\n",
        "inner_product = np.inner(x, y)\n",
        "print(\"Inner product of x and y:\\n\", inner_product)\n",
        "outer_product = np.outer(x.flatten(), y.flatten())\n",
        "print(\"\\nOuter product of x and y:\\n\", outer_product)\n",
        "cartesian_product = np.array(list(product(x.flatten(), y.flatten())))\n",
        "print(\"\\nCartesian product of x and y:\\n\", cartesian_product)\n"
      ],
      "metadata": {
        "colab": {
          "base_uri": "https://localhost:8080/"
        },
        "id": "CGFba7EzQK0v",
        "outputId": "9cd0542a-4603-4373-d04c-606f76bd798d"
      },
      "execution_count": 15,
      "outputs": [
        {
          "output_type": "stream",
          "name": "stdout",
          "text": [
            "Inner product of x and y:\n",
            " [[17 52]\n",
            " [13 62]]\n",
            "\n",
            "Outer product of x and y:\n",
            " [[ 2 10  0 10 20  6]\n",
            " [ 3 15  0 15 30  9]\n",
            " [ 4 20  0 20 40 12]\n",
            " [ 3 15  0 15 30  9]\n",
            " [ 2 10  0 10 20  6]\n",
            " [ 9 45  0 45 90 27]]\n",
            "\n",
            "Cartesian product of x and y:\n",
            " [[ 2  1]\n",
            " [ 2  5]\n",
            " [ 2  0]\n",
            " [ 2  5]\n",
            " [ 2 10]\n",
            " [ 2  3]\n",
            " [ 3  1]\n",
            " [ 3  5]\n",
            " [ 3  0]\n",
            " [ 3  5]\n",
            " [ 3 10]\n",
            " [ 3  3]\n",
            " [ 4  1]\n",
            " [ 4  5]\n",
            " [ 4  0]\n",
            " [ 4  5]\n",
            " [ 4 10]\n",
            " [ 4  3]\n",
            " [ 3  1]\n",
            " [ 3  5]\n",
            " [ 3  0]\n",
            " [ 3  5]\n",
            " [ 3 10]\n",
            " [ 3  3]\n",
            " [ 2  1]\n",
            " [ 2  5]\n",
            " [ 2  0]\n",
            " [ 2  5]\n",
            " [ 2 10]\n",
            " [ 2  3]\n",
            " [ 9  1]\n",
            " [ 9  5]\n",
            " [ 9  0]\n",
            " [ 9  5]\n",
            " [ 9 10]\n",
            " [ 9  3]]\n"
          ]
        }
      ]
    },
    {
      "cell_type": "code",
      "source": [
        "import numpy as np\n",
        "array = np.array([[1, -2, 3], [-4, 5, -6]])\n",
        "absolute_value = np.abs(array)\n",
        "print(\"Element-wise absolute value:\\n\", absolute_value)\n"
      ],
      "metadata": {
        "colab": {
          "base_uri": "https://localhost:8080/"
        },
        "id": "4p_TIBkUQh5j",
        "outputId": "edf5dd43-c6a4-4c81-df31-ecbd8dd39201"
      },
      "execution_count": 16,
      "outputs": [
        {
          "output_type": "stream",
          "name": "stdout",
          "text": [
            "Element-wise absolute value:\n",
            " [[1 2 3]\n",
            " [4 5 6]]\n"
          ]
        }
      ]
    },
    {
      "cell_type": "code",
      "source": [
        "import numpy as np\n",
        "array = np.array([[1, -2, 3], [-4, 5, -6]])\n",
        "flattened_percentiles = np.percentile(array.flatten(), [25, 50, 75])\n",
        "print(\"Percentiles of flattened array (25th, 50th, 75th):\", flattened_percentiles)\n",
        "column_percentiles = np.percentile(array, [25, 50, 75], axis=0)\n",
        "print(\"\\nPercentiles for each column (25th, 50th, 75th):\\n\", column_percentiles)\n",
        "row_percentiles = np.percentile(array, [25, 50, 75], axis=1)\n",
        "print(\"\\nPercentiles for each row (25th, 50th, 75th):\\n\", row_percentiles)\n"
      ],
      "metadata": {
        "colab": {
          "base_uri": "https://localhost:8080/"
        },
        "id": "JCm-XINERE90",
        "outputId": "5304cbcf-b363-40d8-dec1-5d308bfaccf1"
      },
      "execution_count": 17,
      "outputs": [
        {
          "output_type": "stream",
          "name": "stdout",
          "text": [
            "Percentiles of flattened array (25th, 50th, 75th): [-3.5 -0.5  2.5]\n",
            "\n",
            "Percentiles for each column (25th, 50th, 75th):\n",
            " [[-2.75 -0.25 -3.75]\n",
            " [-1.5   1.5  -1.5 ]\n",
            " [-0.25  3.25  0.75]]\n",
            "\n",
            "Percentiles for each row (25th, 50th, 75th):\n",
            " [[-0.5 -5. ]\n",
            " [ 1.  -4. ]\n",
            " [ 2.   0.5]]\n"
          ]
        }
      ]
    },
    {
      "cell_type": "code",
      "source": [
        "import numpy as np\n",
        "array = np.array([[1, -2, 3], [-4, 5, -6]])\n",
        "\n",
        "flattened_mean = np.mean(array.flatten())\n",
        "flattened_median = np.median(array.flatten())\n",
        "flattened_std = np.std(array.flatten())\n",
        "\n",
        "print(\"Flattened array:\")\n",
        "print(\"Mean:\", flattened_mean)\n",
        "print(\"Median:\", flattened_median)\n",
        "print(\"Standard Deviation:\", flattened_std)\n",
        "\n",
        "column_mean = np.mean(array, axis=0)\n",
        "column_median = np.median(array, axis=0)\n",
        "column_std = np.std(array, axis=0)\n",
        "\n",
        "print(\"\\nColumn-wise statistics:\")\n",
        "print(\"Mean:\", column_mean)\n",
        "print(\"Median:\", column_median)\n",
        "print(\"Standard Deviation:\", column_std)\n",
        "\n",
        "row_mean = np.mean(array, axis=1)\n",
        "row_median = np.median(array, axis=1)\n",
        "row_std = np.std(array, axis=1)\n",
        "\n",
        "print(\"\\nRow-wise statistics:\")\n",
        "print(\"Mean:\", row_mean)\n",
        "print(\"Median:\", row_median)\n",
        "print(\"Standard Deviation:\", row_std)\n"
      ],
      "metadata": {
        "colab": {
          "base_uri": "https://localhost:8080/"
        },
        "id": "AkKW1dD3RtLi",
        "outputId": "ba4cb0f3-6669-4730-b163-e87a49b6b2a9"
      },
      "execution_count": 18,
      "outputs": [
        {
          "output_type": "stream",
          "name": "stdout",
          "text": [
            "Flattened array:\n",
            "Mean: -0.5\n",
            "Median: -0.5\n",
            "Standard Deviation: 3.8622100754188224\n",
            "\n",
            "Column-wise statistics:\n",
            "Mean: [-1.5  1.5 -1.5]\n",
            "Median: [-1.5  1.5 -1.5]\n",
            "Standard Deviation: [2.5 3.5 4.5]\n",
            "\n",
            "Row-wise statistics:\n",
            "Mean: [ 0.66666667 -1.66666667]\n",
            "Median: [ 1. -4.]\n",
            "Standard Deviation: [2.05480467 4.78423336]\n"
          ]
        }
      ]
    },
    {
      "cell_type": "code",
      "source": [
        "import numpy as np\n",
        "\n",
        "a = np.array([-1.8, -1.6, -0.5, 0.5, 1.6, 1.8, 3.0])\n",
        "floor_values = np.floor(a)\n",
        "ceiling_values = np.ceil(a)\n",
        "truncated_values = np.trunc(a)\n",
        "rounded_values = np.round(a)\n",
        "print(\"Original array:\", a)\n",
        "print(\"Floor values:\", floor_values)\n",
        "print(\"Ceiling values:\", ceiling_values)\n",
        "print(\"Truncated values:\", truncated_values)\n",
        "print(\"Rounded values:\", rounded_values)\n"
      ],
      "metadata": {
        "colab": {
          "base_uri": "https://localhost:8080/"
        },
        "id": "XCBOJTcNR669",
        "outputId": "6b6a5952-62c5-42ea-9c93-3246a92a7ee2"
      },
      "execution_count": 19,
      "outputs": [
        {
          "output_type": "stream",
          "name": "stdout",
          "text": [
            "Original array: [-1.8 -1.6 -0.5  0.5  1.6  1.8  3. ]\n",
            "Floor values: [-2. -2. -1.  0.  1.  1.  3.]\n",
            "Ceiling values: [-1. -1. -0.  1.  2.  2.  3.]\n",
            "Truncated values: [-1. -1. -0.  0.  1.  1.  3.]\n",
            "Rounded values: [-2. -2. -0.  0.  2.  2.  3.]\n"
          ]
        }
      ]
    },
    {
      "cell_type": "code",
      "source": [
        "import numpy as np\n",
        "array = np.array([10, 52, 62, 16, 16, 54, 453])\n",
        "sorted_array = np.sort(array)\n",
        "print(\"Original array:\", array)\n",
        "print(\"Sorted array:\", sorted_array)\n"
      ],
      "metadata": {
        "colab": {
          "base_uri": "https://localhost:8080/"
        },
        "id": "mrxoc6c8SOf0",
        "outputId": "7023a30d-bbd9-4e26-b862-6894b03f799e"
      },
      "execution_count": 20,
      "outputs": [
        {
          "output_type": "stream",
          "name": "stdout",
          "text": [
            "Original array: [ 10  52  62  16  16  54 453]\n",
            "Sorted array: [ 10  16  16  52  54  62 453]\n"
          ]
        }
      ]
    },
    {
      "cell_type": "code",
      "source": [
        "import numpy as np\n",
        "array = np.array([10, 52, 62, 16, 16, 54, 453])\n",
        "sorted_indices = np.argsort(array)\n",
        "print(\"Original array:\", array)\n",
        "print(\"Indices of sorted array:\", sorted_indices)\n"
      ],
      "metadata": {
        "colab": {
          "base_uri": "https://localhost:8080/"
        },
        "id": "kAR6xm6eSh1U",
        "outputId": "ba8de6bd-6f5d-4211-c67d-5820ef77e5ca"
      },
      "execution_count": 21,
      "outputs": [
        {
          "output_type": "stream",
          "name": "stdout",
          "text": [
            "Original array: [ 10  52  62  16  16  54 453]\n",
            "Indices of sorted array: [0 3 4 1 5 2 6]\n"
          ]
        }
      ]
    },
    {
      "cell_type": "code",
      "source": [],
      "metadata": {
        "id": "Hf8_rPm1S2dp"
      },
      "execution_count": null,
      "outputs": []
    }
  ]
}